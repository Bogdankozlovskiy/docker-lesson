{
 "cells": [
  {
   "cell_type": "code",
   "execution_count": 3,
   "metadata": {},
   "outputs": [],
   "source": [
    "from requests import get, post\n",
    "from json import loads"
   ]
  },
  {
   "cell_type": "code",
   "execution_count": 12,
   "metadata": {},
   "outputs": [
    {
     "data": {
      "text/plain": [
       "'\"this username already exist\"'"
      ]
     },
     "execution_count": 12,
     "metadata": {},
     "output_type": "execute_result"
    }
   ],
   "source": [
    "# sign\n",
    "url = \"http://127.0.0.1:8000/sign/\"\n",
    "data = {\n",
    "    \"username\": \"testuser\",\n",
    "    \"password\": \"password\",\n",
    "    \"email\": \"bkozlovsky@bk.ru\",\n",
    "    \"country\": \"Belarus\"\n",
    "}\n",
    "post(url, data=data).text"
   ]
  },
  {
   "cell_type": "code",
   "execution_count": 17,
   "metadata": {},
   "outputs": [
    {
     "data": {
      "text/plain": [
       "'\"this user does not exist\"'"
      ]
     },
     "execution_count": 17,
     "metadata": {},
     "output_type": "execute_result"
    }
   ],
   "source": [
    "# get existed token\n",
    "url = \"http://127.0.0.1:8000/gettoken/\"\n",
    "data = {\n",
    "    \"username\": \"testuser\",\n",
    "    \"password\": \"password\",\n",
    "    \"email\": \"bkozlovsky@bk.ru\",\n",
    "    \"country\": \"Belarus\"\n",
    "}\n",
    "post(url, data=data).text"
   ]
  },
  {
   "cell_type": "code",
   "execution_count": 19,
   "metadata": {},
   "outputs": [],
   "source": [
    "token = \"cab34eb7cba043d1dd1b7317134a2e184e79047c\"\n",
    "headers = {\"Authorization\":f\"Token {token}\"}"
   ]
  },
  {
   "cell_type": "code",
   "execution_count": 20,
   "metadata": {},
   "outputs": [
    {
     "data": {
      "text/plain": [
       "[{'title': 'Belarus: Commemoration Day',\n",
       "  'date_start': '2021-05-11',\n",
       "  'duration': '1 00:00:00',\n",
       "  'description': 'A commemoration of the dead on the Second Tuesday after Easter\\n\\nRadonitsa. 9 days after Orthodox Easter\\n\\nInformation provided by www.officeholidays.com',\n",
       "  'country': 250},\n",
       " {'title': 'Belarus: Victory Day',\n",
       "  'date_start': '2022-05-09',\n",
       "  'duration': '1 00:00:00',\n",
       "  'description': 'Celebrates the Soviet victory over Nazi Germany and the end of the Second World War\\n\\n\\n\\nInformation provided by www.officeholidays.com',\n",
       "  'country': 250},\n",
       " {'title': 'Belarus: Independence Day',\n",
       "  'date_start': '2020-07-03',\n",
       "  'duration': '1 00:00:00',\n",
       "  'description': \"Adopted in 1996, in commemoration of the Red Army's 1944 liberation of Minsk during the Minsk Offensive\\n\\nLiberation of Belarus from the Nazis in 1944\\n\\nInformation provided by www.officeholidays.com\",\n",
       "  'country': 250},\n",
       " {'title': \"Belarus: Day after New Year's Day\",\n",
       "  'date_start': '2022-01-02',\n",
       "  'duration': '1 00:00:00',\n",
       "  'description': \"Some countries observes a second public holiday for New Year's celebration\\n\\n\\n\\nInformation provided by www.officeholidays.com\",\n",
       "  'country': 250},\n",
       " {'title': \"Belarus: New Year's Day\",\n",
       "  'date_start': '2022-01-01',\n",
       "  'duration': '1 00:00:00',\n",
       "  'description': \"New Year's Day is a public holiday in all countries that observe the Gregorian calendar, with the exception of Israel\\n\\n\\n\\nInformation provided by www.officeholidays.com\",\n",
       "  'country': 250},\n",
       " {'title': \"Belarus: Women's Day\",\n",
       "  'date_start': '2021-03-08',\n",
       "  'duration': '1 00:00:00',\n",
       "  'description': 'The UN has declared March 8th to be a day to celebrate, recognise and remember women\\n\\n\\n\\nInformation provided by www.officeholidays.com',\n",
       "  'country': 250},\n",
       " {'title': 'Belarus: Orthodox Christmas',\n",
       "  'date_start': '2021-01-07',\n",
       "  'duration': '1 00:00:00',\n",
       "  'description': 'The Orthodox Church recognises January 7th as the day that Jesus was born\\n\\n\\n\\nInformation provided by www.officeholidays.com',\n",
       "  'country': 250},\n",
       " {'title': 'Belarus: Labour Day',\n",
       "  'date_start': '2022-05-01',\n",
       "  'duration': '1 00:00:00',\n",
       "  'description': \"This holiday is most commonly associated as a commemoration of the achievements of the labour movement\\n\\nInternational Workers' Day\\n\\nInformation provided by www.officeholidays.com\",\n",
       "  'country': 250},\n",
       " {'title': 'Belarus: October Revolution Day',\n",
       "  'date_start': '2022-11-07',\n",
       "  'duration': '1 00:00:00',\n",
       "  'description': 'Commemorates the Great October Socialist Revolution that began on this day on November 7th 1917\\n\\n\\n\\nInformation provided by www.officeholidays.com',\n",
       "  'country': 250},\n",
       " {'title': 'Belarus: Christmas Day (Catholic)',\n",
       "  'date_start': '2022-12-25',\n",
       "  'duration': '1 00:00:00',\n",
       "  'description': 'Christmas celebrates the Nativity of Jesus which according to tradition took place on December 25th 1 BC\\n\\n\\n\\nInformation provided by www.officeholidays.com',\n",
       "  'country': 250}]"
      ]
     },
     "execution_count": 20,
     "metadata": {},
     "output_type": "execute_result"
    }
   ],
   "source": [
    "# get holidays\n",
    "url = \"http://127.0.0.1:8000/showholidays/\"\n",
    "loads(get(url, headers=headers).text)"
   ]
  }
 ],
 "metadata": {
  "kernelspec": {
   "display_name": "Python 3",
   "language": "python",
   "name": "python3"
  },
  "language_info": {
   "codemirror_mode": {
    "name": "ipython",
    "version": 3
   },
   "file_extension": ".py",
   "mimetype": "text/x-python",
   "name": "python",
   "nbconvert_exporter": "python",
   "pygments_lexer": "ipython3",
   "version": "3.7.3"
  }
 },
 "nbformat": 4,
 "nbformat_minor": 2
}
